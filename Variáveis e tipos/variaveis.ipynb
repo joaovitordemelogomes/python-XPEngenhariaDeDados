{
 "cells": [
  {
   "cell_type": "code",
   "execution_count": null,
   "metadata": {},
   "outputs": [],
   "source": [
    "# Explicação "
   ]
  },
  {
   "cell_type": "code",
   "execution_count": null,
   "metadata": {},
   "outputs": [],
   "source": [
    "## O que são?\n",
    "\n"
   ]
  },
  {
   "cell_type": "markdown",
   "metadata": {},
   "source": [
    "Variaveis são respondáveis por guaradr valores de um programa como armazenar nome, endereço, idade \n",
    "\n",
    "- Ás varieveis podem ter diversos tipos como string, number...;\n",
    "\n",
    "- Ás variaveis esstá prestesente em diversos produtos;\n"
   ]
  },
  {
   "cell_type": "markdown",
   "metadata": {},
   "source": [
    "Exemplo:"
   ]
  },
  {
   "cell_type": "code",
   "execution_count": 2,
   "metadata": {},
   "outputs": [
    {
     "name": "stdout",
     "output_type": "stream",
     "text": [
      "18\n",
      "Maria\n"
     ]
    }
   ],
   "source": [
    "idade = 18\n",
    "nome = \"Maria\"\n",
    "print (idade)\n",
    "print (nome)"
   ]
  },
  {
   "cell_type": "markdown",
   "metadata": {},
   "source": [
    "Toda varievel tem um valor e um tipo \n",
    "\n",
    "Valor = É um valor atribuído a variável como número ou texto\n",
    "tipo = Estrutura da informação e a forma de classificamos os dados \n",
    "- A clasisficação permite criar funções;\n",
    "- podemos criar tipos;\n",
    "\n",
    "Os tipos que existem:\n",
    "- Escalares (Um único valor)\n",
    "  int = Número inteiro positivo ou negativo\n",
    "  float - Numero decimal positivo ou negativo;\n",
    "  string = valores em texto ou tudo quee está entre aspas '' \"\"\n",
    "  bool = True ou false "
   ]
  }
 ],
 "metadata": {
  "kernelspec": {
   "display_name": "Python 3",
   "language": "python",
   "name": "python3"
  },
  "language_info": {
   "codemirror_mode": {
    "name": "ipython",
    "version": 3
   },
   "file_extension": ".py",
   "mimetype": "text/x-python",
   "name": "python",
   "nbconvert_exporter": "python",
   "pygments_lexer": "ipython3",
   "version": "3.12.4"
  }
 },
 "nbformat": 4,
 "nbformat_minor": 2
}
