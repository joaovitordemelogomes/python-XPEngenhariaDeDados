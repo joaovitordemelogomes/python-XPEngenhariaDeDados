{
 "cells": [
  {
   "cell_type": "markdown",
   "metadata": {},
   "source": [
    "# Variáveiss e tipos"
   ]
  },
  {
   "cell_type": "markdown",
   "metadata": {},
   "source": [
    "##  Teoria "
   ]
  },
  {
   "cell_type": "markdown",
   "metadata": {},
   "source": [
    "Variaveis são respondáveis por guaradr valores de um programa como armazenar nome, endereço, idade \n",
    "\n",
    "- Ás varieveis podem ter diversos tipos como string, number...;\n",
    "\n",
    "- Ás variaveis esstá prestesente em diversos produtos;\n"
   ]
  },
  {
   "cell_type": "markdown",
   "metadata": {},
   "source": [
    "Exemplo:"
   ]
  },
  {
   "cell_type": "code",
   "execution_count": 2,
   "metadata": {},
   "outputs": [
    {
     "name": "stdout",
     "output_type": "stream",
     "text": [
      "18\n",
      "Maria\n"
     ]
    }
   ],
   "source": [
    "idade = 18\n",
    "nome = \"Maria\"\n",
    "print (idade)\n",
    "print (nome)"
   ]
  },
  {
   "cell_type": "markdown",
   "metadata": {},
   "source": [
    "Toda varievel tem um valor e um tipo \n",
    "\n",
    "Valor = É um valor atribuído a variável como número ou texto\n",
    "tipo = Estrutura da informação e a forma de classificamos os dados \n",
    "- A clasisficação permite criar funções;\n",
    "- podemos criar tipos;\n",
    "\n",
    "Os tipos que existem:\n",
    "- Escalares (Um único valor)\n",
    "  int = Número inteiro positivo ou negativo\n",
    "  float - Numero decimal positivo ou negativo;\n",
    "  string = valores em texto ou tudo quee está entre aspas '' \"\"\n",
    "  bool = True ou false ou pode usar números inteiros \n",
    "\n",
    "- Varieveis complexas (Váarios valores)\n",
    "  list = Conjuntos de valores dentro de [floot, bool, string];\n",
    "  tuple = Conjuntos de valores que não poddem ser alterados (123);\n",
    "  set = São conjuntos {} - Validação de dados;\n",
    "  dict = Caahve valor - Número seguido de valores\n",
    "  range = Intervalo de valores \n",
    "  \n",
    "  Para ver o tipo da varivel usando\n",
    "  type (insira o nome da variável)\n",
    "\n",
    "  Na engenharia de dados é importante validar dados\n",
    "\n",
    "É importante dá nomes claros a variável = Descritiva\n",
    "\n",
    "\n",
    "Usar sempre palavras minusculas \n"
   ]
  },
  {
   "cell_type": "markdown",
   "metadata": {},
   "source": [
    "Nomes que não são aceitos:\n",
    "\n",
    "Não aceita variável que começa com números \n",
    "  Ex: 1numero = 123\n",
    "\n",
    "Não aceita cactere especial\n",
    "  Ex: email0 = 'joaovitordemelogomes@gmail.com'\n",
    "\n",
    "Não aceita variável com nomes reservados\n",
    "  Ex: class = \"a\"\n",
    "\n",
    "Palavras reservas são palavras que a linguagem usa como função quue são mais mais 20 palavras reservadas \n"
   ]
  },
  {
   "cell_type": "markdown",
   "metadata": {},
   "source": [
    "# práatica de varáveis e tipos"
   ]
  },
  {
   "cell_type": "markdown",
   "metadata": {},
   "source": [
    "## Variáveis e tipos "
   ]
  },
  {
   "cell_type": "code",
   "execution_count": 4,
   "metadata": {},
   "outputs": [
    {
     "data": {
      "text/plain": [
       "int"
      ]
     },
     "execution_count": 4,
     "metadata": {},
     "output_type": "execute_result"
    }
   ],
   "source": [
    "idade2 = 20\n",
    "type (idade) # int = Número inteiro"
   ]
  },
  {
   "cell_type": "code",
   "execution_count": 6,
   "metadata": {},
   "outputs": [
    {
     "data": {
      "text/plain": [
       "str"
      ]
     },
     "execution_count": 6,
     "metadata": {},
     "output_type": "execute_result"
    }
   ],
   "source": [
    "nome2 = 'joão'\n",
    "type ('nome2') # str = texto\n"
   ]
  },
  {
   "cell_type": "code",
   "execution_count": 7,
   "metadata": {},
   "outputs": [
    {
     "data": {
      "text/plain": [
       "str"
      ]
     },
     "execution_count": 7,
     "metadata": {},
     "output_type": "execute_result"
    }
   ],
   "source": [
    "salario = 1000.2\n",
    "type ('salario')"
   ]
  },
  {
   "cell_type": "markdown",
   "metadata": {},
   "source": [
    "## Declaração múltipla"
   ]
  },
  {
   "cell_type": "code",
   "execution_count": 9,
   "metadata": {},
   "outputs": [
    {
     "name": "stdout",
     "output_type": "stream",
     "text": [
      "Maria joão Roberto\n"
     ]
    }
   ],
   "source": [
    "aluno1, aluno2, aluno3 = \"Maria\", \"joão\", \"Roberto\"\n",
    "print(aluno1, aluno2, aluno3)"
   ]
  },
  {
   "cell_type": "markdown",
   "metadata": {},
   "source": [
    "Note que para funcionar precisa ter a mesma quantidade de valores e variaveis "
   ]
  },
  {
   "cell_type": "markdown",
   "metadata": {},
   "source": [
    "## Nomes da variáveis "
   ]
  },
  {
   "cell_type": "markdown",
   "metadata": {},
   "source": [
    "Todo nome de variável precisa ser descritiva e explicita\n"
   ]
  },
  {
   "cell_type": "code",
   "execution_count": null,
   "metadata": {},
   "outputs": [],
   "source": [
    "idade3 = 30"
   ]
  },
  {
   "cell_type": "markdown",
   "metadata": {},
   "source": [
    "## Nomes proibidos "
   ]
  },
  {
   "cell_type": "code",
   "execution_count": 11,
   "metadata": {},
   "outputs": [
    {
     "name": "stdout",
     "output_type": "stream",
     "text": [
      "50\n"
     ]
    }
   ],
   "source": [
    "idade4 = 50 \n",
    "# Vai funcionar\n",
    "print (idade4)"
   ]
  },
  {
   "cell_type": "code",
   "execution_count": 12,
   "metadata": {},
   "outputs": [
    {
     "ename": "SyntaxError",
     "evalue": "invalid decimal literal (2612072271.py, line 1)",
     "output_type": "error",
     "traceback": [
      "\u001b[1;36m  Cell \u001b[1;32mIn[12], line 1\u001b[1;36m\u001b[0m\n\u001b[1;33m    5idade = 89\u001b[0m\n\u001b[1;37m    ^\u001b[0m\n\u001b[1;31mSyntaxError\u001b[0m\u001b[1;31m:\u001b[0m invalid decimal literal\n"
     ]
    }
   ],
   "source": [
    "5idade = 89\n",
    "# Não vai funcionar\n",
    "print (5idadde)"
   ]
  },
  {
   "cell_type": "markdown",
   "metadata": {},
   "source": [
    "## Palavras reservadas "
   ]
  },
  {
   "cell_type": "markdown",
   "metadata": {},
   "source": [
    "Ele descarta ás palavras reservadas\n"
   ]
  },
  {
   "cell_type": "code",
   "execution_count": null,
   "metadata": {},
   "outputs": [],
   "source": [
    "class = 58\n",
    "# por exemplo"
   ]
  },
  {
   "cell_type": "markdown",
   "metadata": {},
   "source": [
    "## Convertendo tipos "
   ]
  },
  {
   "cell_type": "code",
   "execution_count": 14,
   "metadata": {},
   "outputs": [
    {
     "data": {
      "text/plain": [
       "48"
      ]
     },
     "execution_count": 14,
     "metadata": {},
     "output_type": "execute_result"
    }
   ],
   "source": [
    "idade6 = \"10\"\n",
    "idade7 = \"38\"\n",
    "\n",
    "int (idade6) +int (idade7)"
   ]
  }
 ],
 "metadata": {
  "kernelspec": {
   "display_name": "Python 3",
   "language": "python",
   "name": "python3"
  },
  "language_info": {
   "codemirror_mode": {
    "name": "ipython",
    "version": 3
   },
   "file_extension": ".py",
   "mimetype": "text/x-python",
   "name": "python",
   "nbconvert_exporter": "python",
   "pygments_lexer": "ipython3",
   "version": "3.12.4"
  }
 },
 "nbformat": 4,
 "nbformat_minor": 2
}
